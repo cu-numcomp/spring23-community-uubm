{
 "cells": [
  {
   "cell_type": "code",
   "execution_count": 1,
   "id": "65248875-4138-40e4-8309-c89b2a981ab9",
   "metadata": {},
   "outputs": [
    {
     "name": "stdout",
     "output_type": "stream",
     "text": [
      "Error norm ‖x* - x‖ = 1.09344e-15\n",
      "Optimality residual norm ‖Aᵀr‖ = 1.83372e-14\n"
     ]
    }
   ],
   "source": [
    "using QRMumps, LinearAlgebra, SparseArrays, Printf\n",
    "\n",
    "irn = [1, 1, 1, 2, 3, 3, 4, 4, 5, 5, 6, 7, 7]\n",
    "jcn = [1, 3, 5, 2, 3, 5, 1, 4, 4, 5, 2, 1, 3]\n",
    "val = [1.0, 2.0, 3.0, 1.0, 1.0, 2.0, 4.0, 1.0, 5.0, 1.0, 3.0, 6.0, 1.0]\n",
    "\n",
    "A = sparse(irn, jcn, val, 7, 5)\n",
    "b = [22.0, 5.0, 13.0, 8.0, 25.0, 5.0, 9.0]\n",
    "x_star = [1.0, 2.0, 3.0, 4.0, 5.0]\n",
    "\n",
    "qrm_init()\n",
    "\n",
    "spmat = qrm_spmat_init(A)\n",
    "x = qrm_least_squares(spmat, b)\n",
    "\n",
    "error_norm = norm(x - x_star)\n",
    "r = A * x - b\n",
    "optimality_residual_norm = norm(A' * r)\n",
    "\n",
    "@printf(\"Error norm ‖x* - x‖ = %10.5e\\n\", error_norm)\n",
    "@printf(\"Optimality residual norm ‖Aᵀr‖ = %10.5e\\n\", optimality_residual_norm)"
   ]
  },
  {
   "cell_type": "code",
   "execution_count": 6,
   "id": "e21dc49b-26d2-4a65-a7cb-06cd8b421ae8",
   "metadata": {},
   "outputs": [
    {
     "name": "stdout",
     "output_type": "stream",
     "text": [
      "Error norm ‖x* - x‖ = 1.09344e-15\n",
      "Optimality residual norm ‖Aᵀr‖ = 1.83372e-14\n"
     ]
    }
   ],
   "source": [
    "irn = [1, 1, 1, 2, 3, 3, 4, 4, 5, 5, 6, 7, 7]\n",
    "jcn = [1, 3, 5, 2, 3, 5, 1, 4, 4, 5, 2, 1, 3]\n",
    "val = [1.0, 2.0, 3.0, 1.0, 1.0, 2.0, 4.0, 1.0, 5.0, 1.0, 3.0, 6.0, 1.0]\n",
    "\n",
    "A = sparse(irn, jcn, val, 7, 5)\n",
    "b = [22.0, 5.0, 13.0, 8.0, 25.0, 5.0, 9.0]\n",
    "x_star = [1.0, 2.0, 3.0, 4.0, 5.0]\n",
    "\n",
    "qrm_init()\n",
    "\n",
    "spmat = qrm_spmat_init(A)\n",
    "spfct = qrm_spfct_init(spmat)\n",
    "\n",
    "qrm_analyse!(spmat, spfct)\n",
    "qrm_factorize!(spmat, spfct)\n",
    "z = qrm_apply(spfct, b, transp='t')\n",
    "x = qrm_solve(spfct, z)\n",
    "\n",
    "error_norm = norm(x - x_star)\n",
    "r = A * x - b\n",
    "optimality_residual_norm = norm(A' * r)\n",
    "\n",
    "@printf(\"Error norm ‖x* - x‖ = %10.5e\\n\", error_norm)\n",
    "@printf(\"Optimality residual norm ‖Aᵀr‖ = %10.5e\\n\", optimality_residual_norm)"
   ]
  },
  {
   "cell_type": "code",
   "execution_count": 7,
   "id": "6a8f022c-3b9b-4e19-bd1a-8bef3931b2ac",
   "metadata": {},
   "outputs": [
    {
     "name": "stdout",
     "output_type": "stream",
     "text": [
      "Optimality residual norm ‖Aᵀr‖ = 2.73987e-14\n"
     ]
    }
   ],
   "source": [
    "irn = [1, 1, 1, 2, 3, 3, 4, 4, 5, 5, 6, 7, 7]\n",
    "jcn = [1, 3, 5, 2, 3, 5, 1, 4, 4, 5, 2, 1, 3]\n",
    "val = [1.0+im, 2.0-im, 3.0+im, 1.0-im, 1.0+im, 2.0-im, 4.0+im, 1.0-im, 5.0+im, 1.0-im, 3.0+im, 6.0-im, 1.0+im]\n",
    "\n",
    "A = sparse(irn, jcn, val, 7, 5)\n",
    "b = [1.0+im, 2.0+im, 3.0+im, 4.0+im, 5.0+im, 6.0+im, 7.0+im]\n",
    "z = copy(b)\n",
    "x = zeros(ComplexF64, 5)\n",
    "\n",
    "qrm_init()\n",
    "\n",
    "spmat = qrm_spmat_init(A)\n",
    "spfct = qrm_spfct_init(spmat)\n",
    "\n",
    "qrm_analyse!(spmat, spfct)\n",
    "qrm_factorize!(spmat, spfct)\n",
    "qrm_apply!(spfct, z, transp='c')\n",
    "qrm_solve!(spfct, z, x)\n",
    "\n",
    "r = A * x - b\n",
    "optimality_residual_norm = norm(A' * r)\n",
    "\n",
    "@printf(\"Optimality residual norm ‖Aᵀr‖ = %10.5e\\n\", optimality_residual_norm)"
   ]
  },
  {
   "cell_type": "code",
   "execution_count": 8,
   "id": "df3b5bc9-64c9-4d33-90aa-d77bf0de3151",
   "metadata": {},
   "outputs": [
    {
     "name": "stdout",
     "output_type": "stream",
     "text": [
      "Error norm ‖x* - x‖ = 3.15585e-15\n",
      "Residual norm ‖Ax - b‖ = 5.02430e-15\n"
     ]
    }
   ],
   "source": [
    "irn = [1, 1, 1, 2, 2, 2, 3, 3, 4, 4, 5, 5, 5]\n",
    "jcn = [3, 5, 7, 1, 4, 6, 2, 6, 5, 6, 3, 4, 7]\n",
    "val = [2.0, 3.0, 5.0, 1.0, 2.0, 2.0, 2.0, 2.0, 2.0, 2.0, 1.0, 2.0, 2.0]\n",
    "\n",
    "A = sparse(irn, jcn, val, 5, 7)\n",
    "b = [56.0, 21.0, 16.0, 22.0, 25.0]\n",
    "x_star = [1.0, 2.0, 3.0, 4.0, 5.0, 6.0, 7.0]\n",
    "\n",
    "qrm_init()\n",
    "\n",
    "spmat = qrm_spmat_init(A)\n",
    "x = qrm_min_norm(spmat, b)\n",
    "\n",
    "error_norm = norm(x - x_star)\n",
    "residual_norm = norm(A * x - b)\n",
    "\n",
    "@printf(\"Error norm ‖x* - x‖ = %10.5e\\n\", error_norm)\n",
    "@printf(\"Residual norm ‖Ax - b‖ = %10.5e\\n\", residual_norm)"
   ]
  },
  {
   "cell_type": "code",
   "execution_count": 9,
   "id": "37342609-3c87-43cd-a62a-5d4d36ae2836",
   "metadata": {},
   "outputs": [
    {
     "name": "stdout",
     "output_type": "stream",
     "text": [
      "Error norm ‖x* - x‖ = 3.15585e-15\n",
      "Residual norm ‖Ax - b‖ = 5.02430e-15\n"
     ]
    }
   ],
   "source": [
    "irn = [1, 1, 1, 2, 2, 2, 3, 3, 4, 4, 5, 5, 5]\n",
    "jcn = [3, 5, 7, 1, 4, 6, 2, 6, 5, 6, 3, 4, 7]\n",
    "val = [2.0, 3.0, 5.0, 1.0, 2.0, 2.0, 2.0, 2.0, 2.0, 2.0, 1.0, 2.0, 2.0]\n",
    "\n",
    "A = sparse(irn, jcn, val, 5, 7)\n",
    "b = [56.0, 21.0, 16.0, 22.0, 25.0]\n",
    "x_star = [1.0, 2.0, 3.0, 4.0, 5.0, 6.0, 7.0]\n",
    "\n",
    "qrm_init()\n",
    "\n",
    "spmat = qrm_spmat_init(A)\n",
    "spfct = qrm_spfct_init(spmat)\n",
    "\n",
    "qrm_analyse!(spmat, spfct, transp='t')\n",
    "qrm_factorize!(spmat, spfct, transp='t')\n",
    "z = qrm_solve(spfct, b, transp='t')\n",
    "x = qrm_apply(spfct, z)\n",
    "\n",
    "error_norm = norm(x - x_star)\n",
    "residual_norm = norm(A * x - b)\n",
    "\n",
    "@printf(\"Error norm ‖x* - x‖ = %10.5e\\n\", error_norm)\n",
    "@printf(\"Residual norm ‖Ax - b‖ = %10.5e\\n\", residual_norm)"
   ]
  },
  {
   "cell_type": "code",
   "execution_count": 10,
   "id": "60b0edff-bfec-4104-84a3-c5c5f00b017d",
   "metadata": {},
   "outputs": [
    {
     "name": "stdout",
     "output_type": "stream",
     "text": [
      "Residual norm ‖Ax - b‖ = 1.97358e-15\n"
     ]
    }
   ],
   "source": [
    "irn = [1, 1, 1, 2, 2, 2, 3, 3, 4, 4, 5, 5, 5]\n",
    "jcn = [3, 5, 7, 1, 4, 6, 2, 6, 5, 6, 3, 4, 7]\n",
    "val = [1.0-im, 2.0+im, 3.0-im, 1.0+im, 1.0-im, 2.0+im, 4.0-im, 1.0+im, 5.0-im, 1.0+im, 3.0-im, 6.0+im, 1.0-im]\n",
    "\n",
    "A = sparse(irn, jcn, val, 5, 7)\n",
    "b = [1.0+im, 2.0+im, 3.0+im, 4.0+im, 5.0+im]\n",
    "x = zeros(ComplexF64, 7)\n",
    "\n",
    "qrm_init()\n",
    "\n",
    "spmat = qrm_spmat_init(A)\n",
    "spfct = qrm_spfct_init(spmat)\n",
    "\n",
    "qrm_analyse!(spmat, spfct, transp='c')\n",
    "qrm_factorize!(spmat, spfct, transp='c')\n",
    "qrm_solve!(spfct, b, x, transp='c')\n",
    "qrm_apply!(spfct, x)\n",
    "\n",
    "residual_norm = norm(A * x - b)\n",
    "\n",
    "@printf(\"Residual norm ‖Ax - b‖ = %10.5e\\n\", residual_norm)"
   ]
  }
 ],
 "metadata": {
  "kernelspec": {
   "display_name": "Julia 1.8.3",
   "language": "julia",
   "name": "julia-1.8"
  },
  "language_info": {
   "file_extension": ".jl",
   "mimetype": "application/julia",
   "name": "julia",
   "version": "1.8.3"
  }
 },
 "nbformat": 4,
 "nbformat_minor": 5
}
